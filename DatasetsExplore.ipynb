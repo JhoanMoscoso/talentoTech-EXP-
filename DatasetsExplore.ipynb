{
 "cells": [
  {
   "cell_type": "code",
   "execution_count": 6,
   "id": "efb58d07-5886-4df8-a758-41c82b6fe369",
   "metadata": {},
   "outputs": [],
   "source": [
    "import pandas as pd\n",
    "import numpy as np\n",
    "import os\n",
    "path = os.getcwd()"
   ]
  },
  {
   "cell_type": "code",
   "execution_count": 23,
   "id": "86980372-1796-4c15-8c5e-8fa183a9eb71",
   "metadata": {},
   "outputs": [
    {
     "name": "stdout",
     "output_type": "stream",
     "text": [
      "(9615, 5)\n",
      "['Fecha', 'RegionHidrologica', 'NombreEmbalse', 'VertimientosVolumenMilesM', 'VertimientosEnergiaKwh']\n"
     ]
    },
    {
     "data": {
      "text/html": [
       "<div>\n",
       "<style scoped>\n",
       "    .dataframe tbody tr th:only-of-type {\n",
       "        vertical-align: middle;\n",
       "    }\n",
       "\n",
       "    .dataframe tbody tr th {\n",
       "        vertical-align: top;\n",
       "    }\n",
       "\n",
       "    .dataframe thead th {\n",
       "        text-align: right;\n",
       "    }\n",
       "</style>\n",
       "<table border=\"1\" class=\"dataframe\">\n",
       "  <thead>\n",
       "    <tr style=\"text-align: right;\">\n",
       "      <th></th>\n",
       "      <th>Fecha</th>\n",
       "      <th>RegionHidrologica</th>\n",
       "      <th>NombreEmbalse</th>\n",
       "      <th>VertimientosVolumenMilesM</th>\n",
       "      <th>VertimientosEnergiaKwh</th>\n",
       "    </tr>\n",
       "  </thead>\n",
       "  <tbody>\n",
       "    <tr>\n",
       "      <th>0</th>\n",
       "      <td>2004-01-02</td>\n",
       "      <td>CENTRO</td>\n",
       "      <td>AGREGADO BOGOTA</td>\n",
       "      <td>11.40</td>\n",
       "      <td>57305.26666</td>\n",
       "    </tr>\n",
       "    <tr>\n",
       "      <th>1</th>\n",
       "      <td>2004-01-03</td>\n",
       "      <td>CENTRO</td>\n",
       "      <td>AGREGADO BOGOTA</td>\n",
       "      <td>14.26</td>\n",
       "      <td>71681.85111</td>\n",
       "    </tr>\n",
       "    <tr>\n",
       "      <th>2</th>\n",
       "      <td>2004-01-04</td>\n",
       "      <td>CENTRO</td>\n",
       "      <td>AGREGADO BOGOTA</td>\n",
       "      <td>14.86</td>\n",
       "      <td>74697.91777</td>\n",
       "    </tr>\n",
       "    <tr>\n",
       "      <th>3</th>\n",
       "      <td>2004-01-05</td>\n",
       "      <td>CENTRO</td>\n",
       "      <td>AGREGADO BOGOTA</td>\n",
       "      <td>14.34</td>\n",
       "      <td>72083.99333</td>\n",
       "    </tr>\n",
       "    <tr>\n",
       "      <th>4</th>\n",
       "      <td>2004-01-06</td>\n",
       "      <td>CENTRO</td>\n",
       "      <td>AGREGADO BOGOTA</td>\n",
       "      <td>15.29</td>\n",
       "      <td>76859.43222</td>\n",
       "    </tr>\n",
       "  </tbody>\n",
       "</table>\n",
       "</div>"
      ],
      "text/plain": [
       "        Fecha RegionHidrologica    NombreEmbalse  VertimientosVolumenMilesM  \\\n",
       "0  2004-01-02            CENTRO  AGREGADO BOGOTA                      11.40   \n",
       "1  2004-01-03            CENTRO  AGREGADO BOGOTA                      14.26   \n",
       "2  2004-01-04            CENTRO  AGREGADO BOGOTA                      14.86   \n",
       "3  2004-01-05            CENTRO  AGREGADO BOGOTA                      14.34   \n",
       "4  2004-01-06            CENTRO  AGREGADO BOGOTA                      15.29   \n",
       "\n",
       "   VertimientosEnergiaKwh  \n",
       "0             57305.26666  \n",
       "1             71681.85111  \n",
       "2             74697.91777  \n",
       "3             72083.99333  \n",
       "4             76859.43222  "
      ]
     },
     "execution_count": 23,
     "metadata": {},
     "output_type": "execute_result"
    }
   ],
   "source": [
    "dfVertimentos = pd.read_csv(path + '/' + 'dfFinalVertimientos_2004-2021.csv')\n",
    "\n",
    "print(dfVertimentos.shape)\n",
    "print(dfVertimentos.columns.tolist())\n",
    "dfVertimentos.head()"
   ]
  },
  {
   "cell_type": "code",
   "execution_count": 24,
   "id": "a91307a9-ca13-419f-8e5a-95236706cf87",
   "metadata": {},
   "outputs": [
    {
     "name": "stdout",
     "output_type": "stream",
     "text": [
      "(180554, 6)\n",
      "['Fecha', 'RegionHidrologica', 'NombreRio', 'AportesCaudalm3s', 'AportesEnergiaKwh', 'AportesPerc']\n"
     ]
    },
    {
     "data": {
      "text/html": [
       "<div>\n",
       "<style scoped>\n",
       "    .dataframe tbody tr th:only-of-type {\n",
       "        vertical-align: middle;\n",
       "    }\n",
       "\n",
       "    .dataframe tbody tr th {\n",
       "        vertical-align: top;\n",
       "    }\n",
       "\n",
       "    .dataframe thead th {\n",
       "        text-align: right;\n",
       "    }\n",
       "</style>\n",
       "<table border=\"1\" class=\"dataframe\">\n",
       "  <thead>\n",
       "    <tr style=\"text-align: right;\">\n",
       "      <th></th>\n",
       "      <th>Fecha</th>\n",
       "      <th>RegionHidrologica</th>\n",
       "      <th>NombreRio</th>\n",
       "      <th>AportesCaudalm3s</th>\n",
       "      <th>AportesEnergiaKwh</th>\n",
       "      <th>AportesPerc</th>\n",
       "    </tr>\n",
       "  </thead>\n",
       "  <tbody>\n",
       "    <tr>\n",
       "      <th>0</th>\n",
       "      <td>2004-01-01</td>\n",
       "      <td>ANTIOQUIA</td>\n",
       "      <td>A. SAN LORENZO</td>\n",
       "      <td>17.56</td>\n",
       "      <td>3910000.0</td>\n",
       "      <td>0.722736</td>\n",
       "    </tr>\n",
       "    <tr>\n",
       "      <th>1</th>\n",
       "      <td>2004-01-01</td>\n",
       "      <td>ANTIOQUIA</td>\n",
       "      <td>CONCEPCION</td>\n",
       "      <td>6.15</td>\n",
       "      <td>1385300.0</td>\n",
       "      <td>1.236875</td>\n",
       "    </tr>\n",
       "    <tr>\n",
       "      <th>2</th>\n",
       "      <td>2004-01-01</td>\n",
       "      <td>ANTIOQUIA</td>\n",
       "      <td>DESV. EEPPM (NEC,PAJ,DOL)</td>\n",
       "      <td>11.43</td>\n",
       "      <td>2574700.0</td>\n",
       "      <td>1.471257</td>\n",
       "    </tr>\n",
       "    <tr>\n",
       "      <th>3</th>\n",
       "      <td>2004-01-01</td>\n",
       "      <td>ANTIOQUIA</td>\n",
       "      <td>GRANDE</td>\n",
       "      <td>18.65</td>\n",
       "      <td>4563500.0</td>\n",
       "      <td>0.792274</td>\n",
       "    </tr>\n",
       "    <tr>\n",
       "      <th>4</th>\n",
       "      <td>2004-01-01</td>\n",
       "      <td>ANTIOQUIA</td>\n",
       "      <td>GUADALUPE</td>\n",
       "      <td>11.28</td>\n",
       "      <td>2540900.0</td>\n",
       "      <td>0.801546</td>\n",
       "    </tr>\n",
       "  </tbody>\n",
       "</table>\n",
       "</div>"
      ],
      "text/plain": [
       "        Fecha RegionHidrologica                  NombreRio  AportesCaudalm3s  \\\n",
       "0  2004-01-01         ANTIOQUIA             A. SAN LORENZO             17.56   \n",
       "1  2004-01-01         ANTIOQUIA                 CONCEPCION              6.15   \n",
       "2  2004-01-01         ANTIOQUIA  DESV. EEPPM (NEC,PAJ,DOL)             11.43   \n",
       "3  2004-01-01         ANTIOQUIA                     GRANDE             18.65   \n",
       "4  2004-01-01         ANTIOQUIA                  GUADALUPE             11.28   \n",
       "\n",
       "   AportesEnergiaKwh  AportesPerc  \n",
       "0          3910000.0     0.722736  \n",
       "1          1385300.0     1.236875  \n",
       "2          2574700.0     1.471257  \n",
       "3          4563500.0     0.792274  \n",
       "4          2540900.0     0.801546  "
      ]
     },
     "execution_count": 24,
     "metadata": {},
     "output_type": "execute_result"
    }
   ],
   "source": [
    "dfAportes = pd.read_csv(path + '/' + 'dfFinalAportes_2004-2021.csv')\n",
    "\n",
    "print(dfAportes.shape)\n",
    "print(dfAportes.columns.tolist())\n",
    "dfAportes.head()"
   ]
  },
  {
   "cell_type": "code",
   "execution_count": 25,
   "id": "b57826d2-0d21-4f9e-8bf5-985efb556594",
   "metadata": {},
   "outputs": [
    {
     "name": "stdout",
     "output_type": "stream",
     "text": [
      "(140349, 9)\n",
      "['Fecha', 'RegionHidrologica', 'NombreEmbalse', 'VolumenUtilDiarioMm3', 'VolumenUtilDiarioEnergiaKwh', 'VolumenUtilDiarioPerc', 'VolumenMm3', 'VolumenEnergiaKwh', 'VolumenPerc']\n"
     ]
    },
    {
     "data": {
      "text/html": [
       "<div>\n",
       "<style scoped>\n",
       "    .dataframe tbody tr th:only-of-type {\n",
       "        vertical-align: middle;\n",
       "    }\n",
       "\n",
       "    .dataframe tbody tr th {\n",
       "        vertical-align: top;\n",
       "    }\n",
       "\n",
       "    .dataframe thead th {\n",
       "        text-align: right;\n",
       "    }\n",
       "</style>\n",
       "<table border=\"1\" class=\"dataframe\">\n",
       "  <thead>\n",
       "    <tr style=\"text-align: right;\">\n",
       "      <th></th>\n",
       "      <th>Fecha</th>\n",
       "      <th>RegionHidrologica</th>\n",
       "      <th>NombreEmbalse</th>\n",
       "      <th>VolumenUtilDiarioMm3</th>\n",
       "      <th>VolumenUtilDiarioEnergiaKwh</th>\n",
       "      <th>VolumenUtilDiarioPerc</th>\n",
       "      <th>VolumenMm3</th>\n",
       "      <th>VolumenEnergiaKwh</th>\n",
       "      <th>VolumenPerc</th>\n",
       "    </tr>\n",
       "  </thead>\n",
       "  <tbody>\n",
       "    <tr>\n",
       "      <th>0</th>\n",
       "      <td>2004-01-01</td>\n",
       "      <td>ANTIOQUIA</td>\n",
       "      <td>AMANI</td>\n",
       "      <td>242.710</td>\n",
       "      <td>1.228355e+08</td>\n",
       "      <td>0.570680</td>\n",
       "      <td>290.690</td>\n",
       "      <td>1.471182e+08</td>\n",
       "      <td>0.614203</td>\n",
       "    </tr>\n",
       "    <tr>\n",
       "      <th>1</th>\n",
       "      <td>2004-01-01</td>\n",
       "      <td>ANTIOQUIA</td>\n",
       "      <td>MIRAFLORES</td>\n",
       "      <td>93.828</td>\n",
       "      <td>2.446284e+08</td>\n",
       "      <td>0.984347</td>\n",
       "      <td>99.548</td>\n",
       "      <td>2.595415e+08</td>\n",
       "      <td>0.985233</td>\n",
       "    </tr>\n",
       "    <tr>\n",
       "      <th>2</th>\n",
       "      <td>2004-01-01</td>\n",
       "      <td>ANTIOQUIA</td>\n",
       "      <td>PENOL</td>\n",
       "      <td>995.587</td>\n",
       "      <td>4.033621e+09</td>\n",
       "      <td>0.995657</td>\n",
       "      <td>1065.867</td>\n",
       "      <td>4.318360e+09</td>\n",
       "      <td>0.995942</td>\n",
       "    </tr>\n",
       "    <tr>\n",
       "      <th>3</th>\n",
       "      <td>2004-01-01</td>\n",
       "      <td>ANTIOQUIA</td>\n",
       "      <td>PLAYAS</td>\n",
       "      <td>34.235</td>\n",
       "      <td>6.547444e+07</td>\n",
       "      <td>0.675380</td>\n",
       "      <td>51.845</td>\n",
       "      <td>9.915360e+07</td>\n",
       "      <td>0.759078</td>\n",
       "    </tr>\n",
       "    <tr>\n",
       "      <th>4</th>\n",
       "      <td>2004-01-01</td>\n",
       "      <td>ANTIOQUIA</td>\n",
       "      <td>PORCE II</td>\n",
       "      <td>59.193</td>\n",
       "      <td>3.437929e+07</td>\n",
       "      <td>0.615440</td>\n",
       "      <td>112.383</td>\n",
       "      <td>6.527200e+07</td>\n",
       "      <td>0.752379</td>\n",
       "    </tr>\n",
       "  </tbody>\n",
       "</table>\n",
       "</div>"
      ],
      "text/plain": [
       "        Fecha RegionHidrologica NombreEmbalse  VolumenUtilDiarioMm3  \\\n",
       "0  2004-01-01         ANTIOQUIA         AMANI               242.710   \n",
       "1  2004-01-01         ANTIOQUIA    MIRAFLORES                93.828   \n",
       "2  2004-01-01         ANTIOQUIA         PENOL               995.587   \n",
       "3  2004-01-01         ANTIOQUIA        PLAYAS                34.235   \n",
       "4  2004-01-01         ANTIOQUIA      PORCE II                59.193   \n",
       "\n",
       "   VolumenUtilDiarioEnergiaKwh  VolumenUtilDiarioPerc  VolumenMm3  \\\n",
       "0                 1.228355e+08               0.570680     290.690   \n",
       "1                 2.446284e+08               0.984347      99.548   \n",
       "2                 4.033621e+09               0.995657    1065.867   \n",
       "3                 6.547444e+07               0.675380      51.845   \n",
       "4                 3.437929e+07               0.615440     112.383   \n",
       "\n",
       "   VolumenEnergiaKwh  VolumenPerc  \n",
       "0       1.471182e+08     0.614203  \n",
       "1       2.595415e+08     0.985233  \n",
       "2       4.318360e+09     0.995942  \n",
       "3       9.915360e+07     0.759078  \n",
       "4       6.527200e+07     0.752379  "
      ]
     },
     "execution_count": 25,
     "metadata": {},
     "output_type": "execute_result"
    }
   ],
   "source": [
    "dfReservas = pd.read_csv(path + '/' + 'dfFinalReservas_2004-2021.csv')\n",
    "\n",
    "print(dfReservas.shape)\n",
    "print(dfReservas.columns.tolist())\n",
    "dfReservas.head()"
   ]
  },
  {
   "cell_type": "code",
   "execution_count": 26,
   "id": "7556929e-00ee-4798-a887-64aa19ce95db",
   "metadata": {},
   "outputs": [
    {
     "data": {
      "text/plain": [
       "(9615, 5)"
      ]
     },
     "execution_count": 26,
     "metadata": {},
     "output_type": "execute_result"
    }
   ],
   "source": [
    "df.shape"
   ]
  },
  {
   "cell_type": "code",
   "execution_count": 27,
   "id": "48d907e6-a0e2-46ef-8310-c6fd277761a2",
   "metadata": {},
   "outputs": [],
   "source": [
    "merged_df = pd.merge(dfVertimentos, dfReservas, on=['Fecha', 'RegionHidrologica', 'NombreEmbalse'], how='outer')"
   ]
  },
  {
   "cell_type": "code",
   "execution_count": 30,
   "id": "0360e23d-3431-4ac4-8a25-b220a4732356",
   "metadata": {},
   "outputs": [
    {
     "name": "stdout",
     "output_type": "stream",
     "text": [
      "<class 'pandas.core.frame.DataFrame'>\n",
      "RangeIndex: 140429 entries, 0 to 140428\n",
      "Data columns (total 11 columns):\n",
      " #   Column                       Non-Null Count   Dtype  \n",
      "---  ------                       --------------   -----  \n",
      " 0   Fecha                        140429 non-null  object \n",
      " 1   RegionHidrologica            140429 non-null  object \n",
      " 2   NombreEmbalse                140429 non-null  object \n",
      " 3   VertimientosVolumenMilesM    9615 non-null    float64\n",
      " 4   VertimientosEnergiaKwh       9615 non-null    float64\n",
      " 5   VolumenUtilDiarioMm3         140349 non-null  float64\n",
      " 6   VolumenUtilDiarioEnergiaKwh  140349 non-null  float64\n",
      " 7   VolumenUtilDiarioPerc        140349 non-null  float64\n",
      " 8   VolumenMm3                   140349 non-null  float64\n",
      " 9   VolumenEnergiaKwh            140349 non-null  float64\n",
      " 10  VolumenPerc                  140349 non-null  float64\n",
      "dtypes: float64(8), object(3)\n",
      "memory usage: 11.8+ MB\n"
     ]
    }
   ],
   "source": [
    "merged_df.info()"
   ]
  },
  {
   "cell_type": "code",
   "execution_count": 31,
   "id": "39c2393e-29db-4e18-8c02-cdd87ec2d1e9",
   "metadata": {},
   "outputs": [],
   "source": [
    "final_df = pd.merge(merged_df, dfAportes, on=['Fecha', 'RegionHidrologica'], how='outer')"
   ]
  },
  {
   "cell_type": "code",
   "execution_count": 32,
   "id": "f1038994-4c05-462c-9769-ea5d3bc77459",
   "metadata": {},
   "outputs": [
    {
     "name": "stdout",
     "output_type": "stream",
     "text": [
      "<class 'pandas.core.frame.DataFrame'>\n",
      "RangeIndex: 1138244 entries, 0 to 1138243\n",
      "Data columns (total 15 columns):\n",
      " #   Column                       Non-Null Count    Dtype  \n",
      "---  ------                       --------------    -----  \n",
      " 0   Fecha                        1138244 non-null  object \n",
      " 1   RegionHidrologica            1138244 non-null  object \n",
      " 2   NombreEmbalse                1131669 non-null  object \n",
      " 3   VertimientosVolumenMilesM    96146 non-null    float64\n",
      " 4   VertimientosEnergiaKwh       96146 non-null    float64\n",
      " 5   VolumenUtilDiarioMm3         1130745 non-null  float64\n",
      " 6   VolumenUtilDiarioEnergiaKwh  1130745 non-null  float64\n",
      " 7   VolumenUtilDiarioPerc        1130745 non-null  float64\n",
      " 8   VolumenMm3                   1130745 non-null  float64\n",
      " 9   VolumenEnergiaKwh            1130745 non-null  float64\n",
      " 10  VolumenPerc                  1130745 non-null  float64\n",
      " 11  NombreRio                    1138244 non-null  object \n",
      " 12  AportesCaudalm3s             1138244 non-null  float64\n",
      " 13  AportesEnergiaKwh            1138244 non-null  float64\n",
      " 14  AportesPerc                  1138244 non-null  float64\n",
      "dtypes: float64(11), object(4)\n",
      "memory usage: 130.3+ MB\n"
     ]
    }
   ],
   "source": [
    "final_df.info()"
   ]
  },
  {
   "cell_type": "code",
   "execution_count": 21,
   "id": "666a271b-7fcd-439f-a29c-4b4458087071",
   "metadata": {},
   "outputs": [
    {
     "data": {
      "text/plain": [
       "(1138244, 15)"
      ]
     },
     "execution_count": 21,
     "metadata": {},
     "output_type": "execute_result"
    }
   ],
   "source": [
    "final_df.shape"
   ]
  },
  {
   "cell_type": "code",
   "execution_count": 22,
   "id": "68084ecc-d9ef-4b7c-85c2-eed2945c071c",
   "metadata": {},
   "outputs": [],
   "source": [
    "final_df.to_csv('dfEnergiaV1.csv', encoding='utf-8', index=False)"
   ]
  }
 ],
 "metadata": {
  "kernelspec": {
   "display_name": "Python 3 (ipykernel)",
   "language": "python",
   "name": "python3"
  },
  "language_info": {
   "codemirror_mode": {
    "name": "ipython",
    "version": 3
   },
   "file_extension": ".py",
   "mimetype": "text/x-python",
   "name": "python",
   "nbconvert_exporter": "python",
   "pygments_lexer": "ipython3",
   "version": "3.12.7"
  }
 },
 "nbformat": 4,
 "nbformat_minor": 5
}
